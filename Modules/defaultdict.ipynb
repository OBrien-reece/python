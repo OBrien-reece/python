{
 "cells": [
  {
   "cell_type": "code",
   "execution_count": 10,
   "id": "7fd8174d",
   "metadata": {},
   "outputs": [],
   "source": [
    "from collections import defaultdict"
   ]
  },
  {
   "cell_type": "code",
   "execution_count": 11,
   "id": "5d146b8f",
   "metadata": {},
   "outputs": [],
   "source": [
    "d = {'a': 10, 'b': 20}"
   ]
  },
  {
   "cell_type": "code",
   "execution_count": 12,
   "id": "865f8c23",
   "metadata": {},
   "outputs": [],
   "source": [
    "d = defaultdict(lambda: 'Wrong Key Value')"
   ]
  },
  {
   "cell_type": "code",
   "execution_count": 13,
   "id": "6f0cd864",
   "metadata": {},
   "outputs": [
    {
     "data": {
      "text/plain": [
       "'Wrong Key Value'"
      ]
     },
     "execution_count": 13,
     "metadata": {},
     "output_type": "execute_result"
    }
   ],
   "source": [
    "d['b']"
   ]
  },
  {
   "cell_type": "code",
   "execution_count": 14,
   "id": "e88deb10",
   "metadata": {},
   "outputs": [
    {
     "data": {
      "text/plain": [
       "'Wrong Key Value'"
      ]
     },
     "execution_count": 14,
     "metadata": {},
     "output_type": "execute_result"
    }
   ],
   "source": [
    "d['a']"
   ]
  },
  {
   "cell_type": "code",
   "execution_count": 15,
   "id": "87310bd5",
   "metadata": {},
   "outputs": [],
   "source": [
    "d['c'] = 100"
   ]
  },
  {
   "cell_type": "code",
   "execution_count": 16,
   "id": "703ded9b",
   "metadata": {},
   "outputs": [
    {
     "data": {
      "text/plain": [
       "100"
      ]
     },
     "execution_count": 16,
     "metadata": {},
     "output_type": "execute_result"
    }
   ],
   "source": [
    "d['c']"
   ]
  },
  {
   "cell_type": "code",
   "execution_count": 36,
   "id": "64d61d14",
   "metadata": {},
   "outputs": [],
   "source": [
    "yy = lambda num: num**2"
   ]
  },
  {
   "cell_type": "code",
   "execution_count": 37,
   "id": "a5dd9ac7",
   "metadata": {},
   "outputs": [
    {
     "data": {
      "text/plain": [
       "16"
      ]
     },
     "execution_count": 37,
     "metadata": {},
     "output_type": "execute_result"
    }
   ],
   "source": [
    "yy(4)"
   ]
  },
  {
   "cell_type": "code",
   "execution_count": 38,
   "id": "12e76d76",
   "metadata": {},
   "outputs": [
    {
     "data": {
      "text/plain": [
       "defaultdict(<function __main__.<lambda>()>,\n",
       "            {'b': 'Wrong Key Value', 'a': 'Wrong Key Value'})"
      ]
     },
     "execution_count": 38,
     "metadata": {},
     "output_type": "execute_result"
    }
   ],
   "source": [
    "d"
   ]
  },
  {
   "cell_type": "code",
   "execution_count": null,
   "id": "18ecce81",
   "metadata": {},
   "outputs": [],
   "source": []
  }
 ],
 "metadata": {
  "kernelspec": {
   "display_name": "Python 3 (ipykernel)",
   "language": "python",
   "name": "python3"
  },
  "language_info": {
   "codemirror_mode": {
    "name": "ipython",
    "version": 3
   },
   "file_extension": ".py",
   "mimetype": "text/x-python",
   "name": "python",
   "nbconvert_exporter": "python",
   "pygments_lexer": "ipython3",
   "version": "3.10.9"
  }
 },
 "nbformat": 4,
 "nbformat_minor": 5
}
