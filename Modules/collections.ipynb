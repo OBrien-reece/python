{
 "cells": [
  {
   "cell_type": "code",
   "execution_count": 9,
   "id": "b5d1ef0a",
   "metadata": {},
   "outputs": [],
   "source": [
    "from collections import Counter"
   ]
  },
  {
   "cell_type": "code",
   "execution_count": 10,
   "id": "29822286",
   "metadata": {},
   "outputs": [],
   "source": [
    "mylist = [1,1,2,3,4,2,3,4,1,2,3,4,1,2,3,4,5,1,2,3,1,2,3,1,1,1,2,3,2,2,2,3,3,3,4,4,2,1,3,1,1,3,4]"
   ]
  },
  {
   "cell_type": "code",
   "execution_count": 11,
   "id": "ece5ed9c",
   "metadata": {},
   "outputs": [
    {
     "data": {
      "text/plain": [
       "Counter({1: 12, 2: 11, 3: 12, 4: 7, 5: 1})"
      ]
     },
     "execution_count": 11,
     "metadata": {},
     "output_type": "execute_result"
    }
   ],
   "source": [
    "Counter(mylist)"
   ]
  }
 ],
 "metadata": {
  "kernelspec": {
   "display_name": "Python 3 (ipykernel)",
   "language": "python",
   "name": "python3"
  },
  "language_info": {
   "codemirror_mode": {
    "name": "ipython",
    "version": 3
   },
   "file_extension": ".py",
   "mimetype": "text/x-python",
   "name": "python",
   "nbconvert_exporter": "python",
   "pygments_lexer": "ipython3",
   "version": "3.10.9"
  }
 },
 "nbformat": 4,
 "nbformat_minor": 5
}
