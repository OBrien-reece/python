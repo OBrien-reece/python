{
 "cells": [
  {
   "cell_type": "code",
   "execution_count": 1,
   "id": "3c393727",
   "metadata": {},
   "outputs": [],
   "source": [
    "# Given a list of ints, return True if the array contains a 3 next to a 3 somewhere."
   ]
  },
  {
   "cell_type": "code",
   "execution_count": 13,
   "id": "9ca0b471",
   "metadata": {},
   "outputs": [],
   "source": [
    "def has_33(num):\n",
    "    num2 = str(num[0])+str(num[1])+str(num[2])\n",
    "    if '33' in num2:\n",
    "        print('true')\n",
    "    else:\n",
    "        print('false')"
   ]
  },
  {
   "cell_type": "code",
   "execution_count": 16,
   "id": "384e3856",
   "metadata": {},
   "outputs": [
    {
     "name": "stdout",
     "output_type": "stream",
     "text": [
      "true\n",
      "false\n",
      "false\n"
     ]
    }
   ],
   "source": [
    "# Check\n",
    "has_33([1, 3, 3])\n",
    "\n",
    "# Check\n",
    "has_33([1, 3, 1, 3])\n",
    "\n",
    "# Check\n",
    "has_33([3, 1, 3])"
   ]
  },
  {
   "cell_type": "code",
   "execution_count": null,
   "id": "6201e5d4",
   "metadata": {},
   "outputs": [],
   "source": []
  },
  {
   "cell_type": "code",
   "execution_count": null,
   "id": "ec480ddb",
   "metadata": {},
   "outputs": [],
   "source": []
  }
 ],
 "metadata": {
  "kernelspec": {
   "display_name": "Python 3 (ipykernel)",
   "language": "python",
   "name": "python3"
  },
  "language_info": {
   "codemirror_mode": {
    "name": "ipython",
    "version": 3
   },
   "file_extension": ".py",
   "mimetype": "text/x-python",
   "name": "python",
   "nbconvert_exporter": "python",
   "pygments_lexer": "ipython3",
   "version": "3.10.9"
  }
 },
 "nbformat": 4,
 "nbformat_minor": 5
}
