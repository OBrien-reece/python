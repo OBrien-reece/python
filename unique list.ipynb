{
 "cells": [
  {
   "cell_type": "code",
   "execution_count": 1,
   "id": "02043b18",
   "metadata": {},
   "outputs": [],
   "source": [
    "# Write a Python function that takes a list and returns a new list with unique elements of the first list."
   ]
  },
  {
   "cell_type": "code",
   "execution_count": 6,
   "id": "b12210df",
   "metadata": {},
   "outputs": [],
   "source": [
    "num = [1,1,1,1,2,2,3,3,3,3,4,5]"
   ]
  },
  {
   "cell_type": "code",
   "execution_count": 10,
   "id": "1858e464",
   "metadata": {},
   "outputs": [
    {
     "data": {
      "text/plain": [
       "[{1, 2, 3, 4, 5},\n",
       " {1, 2, 3, 4, 5},\n",
       " {1, 2, 3, 4, 5},\n",
       " {1, 2, 3, 4, 5},\n",
       " {1, 2, 3, 4, 5},\n",
       " {1, 2, 3, 4, 5},\n",
       " {1, 2, 3, 4, 5},\n",
       " {1, 2, 3, 4, 5},\n",
       " {1, 2, 3, 4, 5},\n",
       " {1, 2, 3, 4, 5},\n",
       " {1, 2, 3, 4, 5},\n",
       " {1, 2, 3, 4, 5}]"
      ]
     },
     "execution_count": 10,
     "metadata": {},
     "output_type": "execute_result"
    }
   ],
   "source": [
    "list(map(lambda num: set(numbers), num))"
   ]
  },
  {
   "cell_type": "code",
   "execution_count": null,
   "id": "6ff6305e",
   "metadata": {},
   "outputs": [],
   "source": []
  }
 ],
 "metadata": {
  "kernelspec": {
   "display_name": "Python 3 (ipykernel)",
   "language": "python",
   "name": "python3"
  },
  "language_info": {
   "codemirror_mode": {
    "name": "ipython",
    "version": 3
   },
   "file_extension": ".py",
   "mimetype": "text/x-python",
   "name": "python",
   "nbconvert_exporter": "python",
   "pygments_lexer": "ipython3",
   "version": "3.10.9"
  }
 },
 "nbformat": 4,
 "nbformat_minor": 5
}
