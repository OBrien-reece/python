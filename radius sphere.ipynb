{
 "cells": [
  {
   "cell_type": "code",
   "execution_count": 1,
   "id": "bedfd823",
   "metadata": {},
   "outputs": [],
   "source": [
    "# Write a function that computes the volume of a sphere given its radius."
   ]
  },
  {
   "cell_type": "code",
   "execution_count": 2,
   "id": "63d1ecb2",
   "metadata": {},
   "outputs": [],
   "source": [
    "import math"
   ]
  },
  {
   "cell_type": "code",
   "execution_count": 4,
   "id": "6c28ee80",
   "metadata": {},
   "outputs": [],
   "source": [
    "def vol(rad):\n",
    "    return 4/3 * math.pi * rad**3"
   ]
  },
  {
   "cell_type": "code",
   "execution_count": 7,
   "id": "4177e534",
   "metadata": {},
   "outputs": [],
   "source": [
    "num = [2]"
   ]
  },
  {
   "cell_type": "code",
   "execution_count": 10,
   "id": "b8457e1f",
   "metadata": {},
   "outputs": [
    {
     "data": {
      "text/plain": [
       "[33.510321638291124]"
      ]
     },
     "execution_count": 10,
     "metadata": {},
     "output_type": "execute_result"
    }
   ],
   "source": [
    "list(map(lambda rad: 4/3 * math.pi * rad**3, num))"
   ]
  },
  {
   "cell_type": "code",
   "execution_count": null,
   "id": "b209e482",
   "metadata": {},
   "outputs": [],
   "source": []
  }
 ],
 "metadata": {
  "kernelspec": {
   "display_name": "Python 3 (ipykernel)",
   "language": "python",
   "name": "python3"
  },
  "language_info": {
   "codemirror_mode": {
    "name": "ipython",
    "version": 3
   },
   "file_extension": ".py",
   "mimetype": "text/x-python",
   "name": "python",
   "nbconvert_exporter": "python",
   "pygments_lexer": "ipython3",
   "version": "3.10.9"
  }
 },
 "nbformat": 4,
 "nbformat_minor": 5
}
