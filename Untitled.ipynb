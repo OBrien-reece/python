{
 "cells": [
  {
   "cell_type": "code",
   "execution_count": 1,
   "id": "2a99c1ef",
   "metadata": {},
   "outputs": [],
   "source": [
    "# Write a Python function to multiply all the numbers in a list."
   ]
  },
  {
   "cell_type": "code",
   "execution_count": 31,
   "id": "96185cbe",
   "metadata": {},
   "outputs": [],
   "source": [
    "num = [1, 2, 3, -4]"
   ]
  },
  {
   "cell_type": "code",
   "execution_count": 40,
   "id": "56b2b3f6",
   "metadata": {},
   "outputs": [],
   "source": [
    "def multiply(num):\n",
    "    result = 1\n",
    "    for num in num:\n",
    "        result *= num\n",
    "    return result"
   ]
  },
  {
   "cell_type": "code",
   "execution_count": 41,
   "id": "a68a1b6c",
   "metadata": {},
   "outputs": [
    {
     "data": {
      "text/plain": [
       "-24"
      ]
     },
     "execution_count": 41,
     "metadata": {},
     "output_type": "execute_result"
    }
   ],
   "source": [
    "multiply(num)"
   ]
  },
  {
   "cell_type": "code",
   "execution_count": null,
   "id": "51eafd15",
   "metadata": {},
   "outputs": [],
   "source": []
  },
  {
   "cell_type": "code",
   "execution_count": null,
   "id": "bcb35645",
   "metadata": {},
   "outputs": [],
   "source": []
  }
 ],
 "metadata": {
  "kernelspec": {
   "display_name": "Python 3 (ipykernel)",
   "language": "python",
   "name": "python3"
  },
  "language_info": {
   "codemirror_mode": {
    "name": "ipython",
    "version": 3
   },
   "file_extension": ".py",
   "mimetype": "text/x-python",
   "name": "python",
   "nbconvert_exporter": "python",
   "pygments_lexer": "ipython3",
   "version": "3.10.9"
  }
 },
 "nbformat": 4,
 "nbformat_minor": 5
}
