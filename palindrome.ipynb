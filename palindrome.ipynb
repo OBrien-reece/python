{
 "cells": [
  {
   "cell_type": "code",
   "execution_count": 4,
   "id": "4dfb395e",
   "metadata": {},
   "outputs": [],
   "source": [
    "# Write a Python function that checks whether a word or phrase is palindrome or not."
   ]
  },
  {
   "cell_type": "code",
   "execution_count": 34,
   "id": "231a30ca",
   "metadata": {},
   "outputs": [],
   "source": [
    "text = 'helleh'    "
   ]
  },
  {
   "cell_type": "code",
   "execution_count": 31,
   "id": "bfc1300f",
   "metadata": {},
   "outputs": [
    {
     "data": {
      "text/plain": [
       "['h', 'e', 'l', 'l', 'e', 'h']"
      ]
     },
     "execution_count": 31,
     "metadata": {},
     "output_type": "execute_result"
    }
   ],
   "source": [
    "def word(text):\n",
    "    newtext = text[::-1]"
   ]
  },
  {
   "cell_type": "code",
   "execution_count": null,
   "id": "236f9b1d",
   "metadata": {},
   "outputs": [],
   "source": []
  }
 ],
 "metadata": {
  "kernelspec": {
   "display_name": "Python 3 (ipykernel)",
   "language": "python",
   "name": "python3"
  },
  "language_info": {
   "codemirror_mode": {
    "name": "ipython",
    "version": 3
   },
   "file_extension": ".py",
   "mimetype": "text/x-python",
   "name": "python",
   "nbconvert_exporter": "python",
   "pygments_lexer": "ipython3",
   "version": "3.10.9"
  }
 },
 "nbformat": 4,
 "nbformat_minor": 5
}
