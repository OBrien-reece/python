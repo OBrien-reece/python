{
 "cells": [
  {
   "cell_type": "code",
   "execution_count": 15,
   "id": "16039f6a",
   "metadata": {},
   "outputs": [],
   "source": [
    "# SUMMER OF '69: \n",
    "# Return the sum of the numbers in the array,\n",
    "# except ignore sections of numbers starting with a 6 and extending to the next 9 \n",
    "# (every 6 will be followed by at least one 9). \n",
    "# Return 0 for no numbers."
   ]
  },
  {
   "cell_type": "code",
   "execution_count": null,
   "id": "1f81a197",
   "metadata": {},
   "outputs": [],
   "source": []
  }
 ],
 "metadata": {
  "kernelspec": {
   "display_name": "Python 3 (ipykernel)",
   "language": "python",
   "name": "python3"
  },
  "language_info": {
   "codemirror_mode": {
    "name": "ipython",
    "version": 3
   },
   "file_extension": ".py",
   "mimetype": "text/x-python",
   "name": "python",
   "nbconvert_exporter": "python",
   "pygments_lexer": "ipython3",
   "version": "3.10.9"
  }
 },
 "nbformat": 4,
 "nbformat_minor": 5
}
