{
 "cells": [
  {
   "cell_type": "code",
   "execution_count": 1,
   "id": "ff741e98",
   "metadata": {},
   "outputs": [],
   "source": [
    "# Write a function that checks whether a number is in a given range (inclusive of high and low)"
   ]
  },
  {
   "cell_type": "code",
   "execution_count": 5,
   "id": "1bd7f271",
   "metadata": {},
   "outputs": [],
   "source": [
    "def ran_check(num, low, high):\n",
    "    if num in range(low, high):\n",
    "        print(f'{num} is in the range of {low} and {high}')"
   ]
  },
  {
   "cell_type": "code",
   "execution_count": 6,
   "id": "bcf7a0eb",
   "metadata": {},
   "outputs": [
    {
     "name": "stdout",
     "output_type": "stream",
     "text": [
      "5 is in the range of 2 and 7\n"
     ]
    }
   ],
   "source": [
    "ran_check(5,2,7)"
   ]
  },
  {
   "cell_type": "code",
   "execution_count": 7,
   "id": "7ff32855",
   "metadata": {},
   "outputs": [],
   "source": [
    "def ran_bool(num, low, high):\n",
    "    return bool(num in range(low, high))"
   ]
  },
  {
   "cell_type": "code",
   "execution_count": 10,
   "id": "31d27098",
   "metadata": {},
   "outputs": [
    {
     "data": {
      "text/plain": [
       "True"
      ]
     },
     "execution_count": 10,
     "metadata": {},
     "output_type": "execute_result"
    }
   ],
   "source": [
    "ran_bool(5,2,7)"
   ]
  },
  {
   "cell_type": "code",
   "execution_count": null,
   "id": "33c77535",
   "metadata": {},
   "outputs": [],
   "source": []
  }
 ],
 "metadata": {
  "kernelspec": {
   "display_name": "Python 3 (ipykernel)",
   "language": "python",
   "name": "python3"
  },
  "language_info": {
   "codemirror_mode": {
    "name": "ipython",
    "version": 3
   },
   "file_extension": ".py",
   "mimetype": "text/x-python",
   "name": "python",
   "nbconvert_exporter": "python",
   "pygments_lexer": "ipython3",
   "version": "3.10.9"
  }
 },
 "nbformat": 4,
 "nbformat_minor": 5
}
