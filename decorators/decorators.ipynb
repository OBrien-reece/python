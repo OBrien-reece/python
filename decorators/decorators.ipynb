{
 "cells": [
  {
   "cell_type": "code",
   "execution_count": 7,
   "id": "178e7fb8",
   "metadata": {},
   "outputs": [],
   "source": [
    "def hello():\n",
    "    \n",
    "#     print('Hello its Tuesday')\n",
    "    \n",
    "    def greet():\n",
    "        \n",
    "        return 'My name is OBrien'\n",
    "    \n",
    "    return greet\n",
    "    "
   ]
  },
  {
   "cell_type": "code",
   "execution_count": 10,
   "id": "27555ac3",
   "metadata": {},
   "outputs": [],
   "source": [
    "h = hello()"
   ]
  },
  {
   "cell_type": "code",
   "execution_count": 12,
   "id": "21834c89",
   "metadata": {},
   "outputs": [
    {
     "data": {
      "text/plain": [
       "'My name is OBrien'"
      ]
     },
     "execution_count": 12,
     "metadata": {},
     "output_type": "execute_result"
    }
   ],
   "source": [
    "h()"
   ]
  },
  {
   "cell_type": "code",
   "execution_count": 13,
   "id": "1c04d083",
   "metadata": {},
   "outputs": [],
   "source": [
    "def hello():\n",
    "    return 'Say hello right now'"
   ]
  },
  {
   "cell_type": "code",
   "execution_count": 14,
   "id": "8e9aefb5",
   "metadata": {},
   "outputs": [],
   "source": [
    "def greet(some_def_func):\n",
    "    print('This is a stern greeting')\n",
    "    print(some_def_func())"
   ]
  },
  {
   "cell_type": "code",
   "execution_count": 20,
   "id": "c39e6c3a",
   "metadata": {},
   "outputs": [
    {
     "name": "stdout",
     "output_type": "stream",
     "text": [
      "This is a stern greeting\n",
      "Say hello right now\n"
     ]
    }
   ],
   "source": [
    "greet(hello)"
   ]
  },
  {
   "cell_type": "code",
   "execution_count": null,
   "id": "a0be4c31",
   "metadata": {},
   "outputs": [],
   "source": []
  },
  {
   "cell_type": "code",
   "execution_count": null,
   "id": "801b6dab",
   "metadata": {},
   "outputs": [],
   "source": []
  },
  {
   "cell_type": "code",
   "execution_count": null,
   "id": "9bdc49ea",
   "metadata": {},
   "outputs": [],
   "source": []
  },
  {
   "cell_type": "code",
   "execution_count": null,
   "id": "785819a1",
   "metadata": {},
   "outputs": [],
   "source": []
  },
  {
   "cell_type": "code",
   "execution_count": 21,
   "id": "05b01776",
   "metadata": {},
   "outputs": [],
   "source": [
    "def new_decorator(original_func):\n",
    "    \n",
    "    def wrap_func():\n",
    "        \n",
    "        print('Some code right before the original function')\n",
    "        \n",
    "        original_func()\n",
    "        \n",
    "        print('Some code right after the original function')\n",
    "        \n",
    "    return wrap_func"
   ]
  },
  {
   "cell_type": "code",
   "execution_count": 22,
   "id": "11a2c028",
   "metadata": {},
   "outputs": [],
   "source": [
    "def func_needs_decorator():\n",
    "    print('Decorated function')"
   ]
  },
  {
   "cell_type": "code",
   "execution_count": 23,
   "id": "9bb6a59c",
   "metadata": {},
   "outputs": [],
   "source": [
    "n = new_decorator(func_needs_decorator)"
   ]
  },
  {
   "cell_type": "code",
   "execution_count": 24,
   "id": "96d45056",
   "metadata": {},
   "outputs": [
    {
     "name": "stdout",
     "output_type": "stream",
     "text": [
      "Some code right before the original function\n",
      "Decorated function\n",
      "Some code right after the original function\n"
     ]
    }
   ],
   "source": [
    "n()"
   ]
  },
  {
   "cell_type": "code",
   "execution_count": 25,
   "id": "406c0797",
   "metadata": {},
   "outputs": [],
   "source": [
    "@new_decorator\n",
    "def func_needs_decorator():\n",
    "    print('Decorated function')"
   ]
  },
  {
   "cell_type": "code",
   "execution_count": 26,
   "id": "6f645eda",
   "metadata": {},
   "outputs": [
    {
     "name": "stdout",
     "output_type": "stream",
     "text": [
      "Some code right before the original function\n",
      "Decorated function\n",
      "Some code right after the original function\n"
     ]
    }
   ],
   "source": [
    "func_needs_decorator()"
   ]
  },
  {
   "cell_type": "code",
   "execution_count": null,
   "id": "1586d159",
   "metadata": {},
   "outputs": [],
   "source": []
  },
  {
   "cell_type": "code",
   "execution_count": null,
   "id": "ed4bedc8",
   "metadata": {},
   "outputs": [],
   "source": []
  }
 ],
 "metadata": {
  "kernelspec": {
   "display_name": "Python 3 (ipykernel)",
   "language": "python",
   "name": "python3"
  },
  "language_info": {
   "codemirror_mode": {
    "name": "ipython",
    "version": 3
   },
   "file_extension": ".py",
   "mimetype": "text/x-python",
   "name": "python",
   "nbconvert_exporter": "python",
   "pygments_lexer": "ipython3",
   "version": "3.10.9"
  }
 },
 "nbformat": 4,
 "nbformat_minor": 5
}
