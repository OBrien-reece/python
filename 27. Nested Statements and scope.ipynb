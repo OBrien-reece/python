{
 "cells": [
  {
   "cell_type": "code",
   "execution_count": 1,
   "id": "f5ef46a7",
   "metadata": {},
   "outputs": [],
   "source": [
    "# Local Enclosed Global Built-in"
   ]
  },
  {
   "cell_type": "code",
   "execution_count": null,
   "id": "bd7c2a7a",
   "metadata": {},
   "outputs": [],
   "source": [
    "name = 'I am a global name variable'"
   ]
  },
  {
   "cell_type": "code",
   "execution_count": 8,
   "id": "4f3a590c",
   "metadata": {},
   "outputs": [],
   "source": [
    "def greet():\n",
    "    name = 'Evans the local name'\n",
    "    def hello():\n",
    "        print('Hello ' +name)\n",
    "    hello()"
   ]
  },
  {
   "cell_type": "code",
   "execution_count": 9,
   "id": "5e3da445",
   "metadata": {},
   "outputs": [
    {
     "name": "stdout",
     "output_type": "stream",
     "text": [
      "Hello Evans the local name\n"
     ]
    }
   ],
   "source": [
    "greet()"
   ]
  },
  {
   "cell_type": "code",
   "execution_count": null,
   "id": "f7d17343",
   "metadata": {},
   "outputs": [],
   "source": []
  }
 ],
 "metadata": {
  "kernelspec": {
   "display_name": "Python 3 (ipykernel)",
   "language": "python",
   "name": "python3"
  },
  "language_info": {
   "codemirror_mode": {
    "name": "ipython",
    "version": 3
   },
   "file_extension": ".py",
   "mimetype": "text/x-python",
   "name": "python",
   "nbconvert_exporter": "python",
   "pygments_lexer": "ipython3",
   "version": "3.10.9"
  }
 },
 "nbformat": 4,
 "nbformat_minor": 5
}
