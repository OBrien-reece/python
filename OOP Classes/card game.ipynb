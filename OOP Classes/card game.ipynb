this is a replace,ent file that i made in an attempt to clear the issue i have
