{
 "cells": [
  {
   "cell_type": "code",
   "execution_count": 4,
   "id": "b38f4584",
   "metadata": {},
   "outputs": [],
   "source": [
    "import math        "
   ]
  },
  {
   "cell_type": "code",
   "execution_count": 53,
   "id": "2e3c6cd9",
   "metadata": {},
   "outputs": [],
   "source": [
    "class Line():\n",
    "    \n",
    "    def __init__(self, cord1, cord2):\n",
    "        self.cord1 = cord1\n",
    "        self.cord2 = cord2\n",
    "        \n",
    "    def distance(self):\n",
    "        return math.sqrt((self.cord2[0] - self.cord1[0])**2 + (self.cord2[1] - self.cord1[1])**2)\n",
    "    \n",
    "    def slope(self):\n",
    "        return (self.cord2[1] - self.cord1[1]) / (self.cord2[0] - self.cord1[0])"
   ]
  },
  {
   "cell_type": "code",
   "execution_count": 54,
   "id": "45954bee",
   "metadata": {},
   "outputs": [],
   "source": [
    "coordinate1 = (3,2)\n",
    "coordinate2 = (8,10)\n",
    "\n",
    "l = Line(coordinate1,coordinate2)"
   ]
  },
  {
   "cell_type": "code",
   "execution_count": 55,
   "id": "d0a5e3c4",
   "metadata": {},
   "outputs": [
    {
     "data": {
      "text/plain": [
       "9.433981132056603"
      ]
     },
     "execution_count": 55,
     "metadata": {},
     "output_type": "execute_result"
    }
   ],
   "source": [
    "l.distance()"
   ]
  },
  {
   "cell_type": "code",
   "execution_count": 56,
   "id": "b321b4e6",
   "metadata": {},
   "outputs": [
    {
     "data": {
      "text/plain": [
       "1.6"
      ]
     },
     "execution_count": 56,
     "metadata": {},
     "output_type": "execute_result"
    }
   ],
   "source": [
    "l.slope()"
   ]
  },
  {
   "cell_type": "code",
   "execution_count": null,
   "id": "50a1938a",
   "metadata": {},
   "outputs": [],
   "source": []
  }
 ],
 "metadata": {
  "kernelspec": {
   "display_name": "Python 3 (ipykernel)",
   "language": "python",
   "name": "python3"
  },
  "language_info": {
   "codemirror_mode": {
    "name": "ipython",
    "version": 3
   },
   "file_extension": ".py",
   "mimetype": "text/x-python",
   "name": "python",
   "nbconvert_exporter": "python",
   "pygments_lexer": "ipython3",
   "version": "3.10.9"
  }
 },
 "nbformat": 4,
 "nbformat_minor": 5
}
