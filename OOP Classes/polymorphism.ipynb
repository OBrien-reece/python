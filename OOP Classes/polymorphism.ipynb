{
 "cells": [
  {
   "cell_type": "code",
   "execution_count": 1,
   "id": "ae0ee1ec",
   "metadata": {},
   "outputs": [],
   "source": [
    "class Cat():\n",
    "    \n",
    "    def __init__(self, name):\n",
    "        self.name = name\n",
    "        \n",
    "    def speak(self):\n",
    "        return self.name + ' says meow!'\n",
    "        "
   ]
  },
  {
   "cell_type": "code",
   "execution_count": 2,
   "id": "d4b4ceff",
   "metadata": {},
   "outputs": [],
   "source": [
    "class Dog():\n",
    "    \n",
    "    def __init__(self, name):\n",
    "        self.name = name\n",
    "        \n",
    "    def speak(self):\n",
    "        return self.name + ' says woof!'\n",
    "        "
   ]
  },
  {
   "cell_type": "code",
   "execution_count": 3,
   "id": "f11b5f16",
   "metadata": {},
   "outputs": [],
   "source": [
    "felix = Cat('Felix')"
   ]
  },
  {
   "cell_type": "code",
   "execution_count": 5,
   "id": "0cf21814",
   "metadata": {},
   "outputs": [
    {
     "name": "stdout",
     "output_type": "stream",
     "text": [
      "Felix says meow!\n"
     ]
    }
   ],
   "source": [
    "print(felix.speak())"
   ]
  },
  {
   "cell_type": "code",
   "execution_count": 6,
   "id": "bd86c88b",
   "metadata": {},
   "outputs": [],
   "source": [
    "mikey = Dog('Mikey')"
   ]
  },
  {
   "cell_type": "code",
   "execution_count": 7,
   "id": "78e5f348",
   "metadata": {},
   "outputs": [
    {
     "name": "stdout",
     "output_type": "stream",
     "text": [
      "Mikey says woof!\n"
     ]
    }
   ],
   "source": [
    "print(mikey.speak())"
   ]
  },
  {
   "cell_type": "code",
   "execution_count": 8,
   "id": "ef1cc219",
   "metadata": {},
   "outputs": [
    {
     "name": "stdout",
     "output_type": "stream",
     "text": [
      "Mikey says woof!\n",
      "Felix says meow!\n"
     ]
    }
   ],
   "source": [
    "for pet in [mikey, felix]:\n",
    "    print(pet.speak())"
   ]
  },
  {
   "cell_type": "code",
   "execution_count": 21,
   "id": "28fdcb74",
   "metadata": {},
   "outputs": [],
   "source": [
    "class Animal():\n",
    "    \n",
    "    def __init__(self, name):\n",
    "        self.name = name\n",
    "        \n",
    "    def speak(self):\n",
    "        raise NotImplementedError('Subclass must implement this abstract method')"
   ]
  },
  {
   "cell_type": "code",
   "execution_count": 22,
   "id": "3afa4fbb",
   "metadata": {},
   "outputs": [],
   "source": [
    "class Cat(Animal):\n",
    "    \n",
    "    def speak(self):\n",
    "        return self.name + ' says meow!'"
   ]
  },
  {
   "cell_type": "code",
   "execution_count": null,
   "id": "85c1b782",
   "metadata": {},
   "outputs": [],
   "source": [
    "class Dog(Animal):\n",
    "    \n",
    "    def speak(self):\n",
    "        return self.name + ' says woof!'"
   ]
  },
  {
   "cell_type": "code",
   "execution_count": 25,
   "id": "d8afc624",
   "metadata": {},
   "outputs": [],
   "source": [
    "mycat = Cat('Mikey')"
   ]
  },
  {
   "cell_type": "code",
   "execution_count": 26,
   "id": "d1ed3421",
   "metadata": {},
   "outputs": [
    {
     "name": "stdout",
     "output_type": "stream",
     "text": [
      "Mikey says meow!\n"
     ]
    }
   ],
   "source": [
    "print(mycat.speak())"
   ]
  },
  {
   "cell_type": "code",
   "execution_count": 27,
   "id": "148359d5",
   "metadata": {},
   "outputs": [],
   "source": [
    "mydog = Dog('Dunkan')"
   ]
  },
  {
   "cell_type": "code",
   "execution_count": 28,
   "id": "da5bf301",
   "metadata": {},
   "outputs": [
    {
     "name": "stdout",
     "output_type": "stream",
     "text": [
      "Dunkan says woof!\n"
     ]
    }
   ],
   "source": [
    "print(mydog.speak())"
   ]
  },
  {
   "cell_type": "code",
   "execution_count": null,
   "id": "8e6b9ebf",
   "metadata": {},
   "outputs": [],
   "source": []
  }
 ],
 "metadata": {
  "kernelspec": {
   "display_name": "Python 3 (ipykernel)",
   "language": "python",
   "name": "python3"
  },
  "language_info": {
   "codemirror_mode": {
    "name": "ipython",
    "version": 3
   },
   "file_extension": ".py",
   "mimetype": "text/x-python",
   "name": "python",
   "nbconvert_exporter": "python",
   "pygments_lexer": "ipython3",
   "version": "3.10.9"
  }
 },
 "nbformat": 4,
 "nbformat_minor": 5
}
