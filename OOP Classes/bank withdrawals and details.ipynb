{
 "cells": [
  {
   "cell_type": "code",
   "execution_count": 37,
   "id": "abfaa6a4",
   "metadata": {},
   "outputs": [],
   "source": [
    "class Account():\n",
    "    \n",
    "    def __init__(self, owner, balance):\n",
    "        self.owner = owner\n",
    "        self.balance = balance\n",
    "        \n",
    "    def __str__(self):\n",
    "        return f' Account Owner: {self.owner} \\n Account Balance: {self.balance}'\n",
    "    \n",
    "    def deposit(self, amount):\n",
    "        self.balance += amount\n",
    "        return f'Your deposit of {amount} has been accepted. New balance is {self.balance}'\n",
    "    \n",
    "    def withdraw(self, withdaw_amount):\n",
    "        \n",
    "        if self.balance >= withdaw_amount:\n",
    "            self.balance = self.balance - withdaw_amount\n",
    "            return f'Your withdrawal of {withdaw_amount} has succeeded. New balance {self.balance}'\n",
    "        else:\n",
    "            return f'Not enough funds to complete the transaction. Current balance is {self.balance}'"
   ]
  },
  {
   "cell_type": "code",
   "execution_count": 38,
   "id": "f051e320",
   "metadata": {},
   "outputs": [],
   "source": [
    "bank = Account('OBrien Reece', 100)"
   ]
  },
  {
   "cell_type": "code",
   "execution_count": 39,
   "id": "213bd1ab",
   "metadata": {},
   "outputs": [
    {
     "name": "stdout",
     "output_type": "stream",
     "text": [
      " Account Owner: OBrien Reece \n",
      " Account Balance: 100\n"
     ]
    }
   ],
   "source": [
    "print(bank)"
   ]
  },
  {
   "cell_type": "code",
   "execution_count": 40,
   "id": "1cb5d946",
   "metadata": {},
   "outputs": [
    {
     "data": {
      "text/plain": [
       "'Your deposit of 30 has been accepted. New balance is 130'"
      ]
     },
     "execution_count": 40,
     "metadata": {},
     "output_type": "execute_result"
    }
   ],
   "source": [
    "bank.deposit(30)"
   ]
  },
  {
   "cell_type": "code",
   "execution_count": 41,
   "id": "3bd4c2fd",
   "metadata": {},
   "outputs": [
    {
     "data": {
      "text/plain": [
       "'Your deposit of 45 has been accepted. New balance is 175'"
      ]
     },
     "execution_count": 41,
     "metadata": {},
     "output_type": "execute_result"
    }
   ],
   "source": [
    "bank.deposit(45)"
   ]
  },
  {
   "cell_type": "code",
   "execution_count": 42,
   "id": "77f940a2",
   "metadata": {},
   "outputs": [
    {
     "data": {
      "text/plain": [
       "'Your withdrawal of 34 has succeeded. New balance 141'"
      ]
     },
     "execution_count": 42,
     "metadata": {},
     "output_type": "execute_result"
    }
   ],
   "source": [
    "bank.withdraw(34)"
   ]
  },
  {
   "cell_type": "code",
   "execution_count": 43,
   "id": "cdd456b1",
   "metadata": {},
   "outputs": [
    {
     "data": {
      "text/plain": [
       "'Your withdrawal of 141 has succeeded. New balance 0'"
      ]
     },
     "execution_count": 43,
     "metadata": {},
     "output_type": "execute_result"
    }
   ],
   "source": [
    "bank.withdraw(141)"
   ]
  },
  {
   "cell_type": "code",
   "execution_count": 44,
   "id": "c86a49eb",
   "metadata": {},
   "outputs": [
    {
     "data": {
      "text/plain": [
       "'Not enough funds to complete the transaction. Current balance is 0'"
      ]
     },
     "execution_count": 44,
     "metadata": {},
     "output_type": "execute_result"
    }
   ],
   "source": [
    "bank.withdraw(20)"
   ]
  },
  {
   "cell_type": "code",
   "execution_count": 45,
   "id": "29b88b46",
   "metadata": {},
   "outputs": [
    {
     "data": {
      "text/plain": [
       "'Your deposit of 30 has been accepted. New balance is 30'"
      ]
     },
     "execution_count": 45,
     "metadata": {},
     "output_type": "execute_result"
    }
   ],
   "source": [
    "bank.deposit(30)"
   ]
  },
  {
   "cell_type": "code",
   "execution_count": 46,
   "id": "c13ad6cc",
   "metadata": {},
   "outputs": [
    {
     "data": {
      "text/plain": [
       "'Not enough funds to complete the transaction. Current balance is 30'"
      ]
     },
     "execution_count": 46,
     "metadata": {},
     "output_type": "execute_result"
    }
   ],
   "source": [
    "bank.withdraw(50)"
   ]
  },
  {
   "cell_type": "code",
   "execution_count": null,
   "id": "5dd5dd09",
   "metadata": {},
   "outputs": [],
   "source": []
  }
 ],
 "metadata": {
  "kernelspec": {
   "display_name": "Python 3 (ipykernel)",
   "language": "python",
   "name": "python3"
  },
  "language_info": {
   "codemirror_mode": {
    "name": "ipython",
    "version": 3
   },
   "file_extension": ".py",
   "mimetype": "text/x-python",
   "name": "python",
   "nbconvert_exporter": "python",
   "pygments_lexer": "ipython3",
   "version": "3.10.9"
  }
 },
 "nbformat": 4,
 "nbformat_minor": 5
}
