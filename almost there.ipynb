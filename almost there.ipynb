{
 "cells": [
  {
   "cell_type": "code",
   "execution_count": 5,
   "id": "a7c5cd32",
   "metadata": {},
   "outputs": [],
   "source": [
    "# ALMOST THERE: Given an integer n, return True if n is within 10 of either 100 or 200"
   ]
  },
  {
   "cell_type": "code",
   "execution_count": 11,
   "id": "625172c7",
   "metadata": {},
   "outputs": [],
   "source": [
    "def almost_there(number):\n",
    "    if number in range(90,110):\n",
    "        print(f'True {number}')\n",
    "    elif number in range(190, 210):\n",
    "        print(f'True {number}')\n",
    "    else:\n",
    "        print(f'False {number}')"
   ]
  },
  {
   "cell_type": "code",
   "execution_count": 17,
   "id": "7c9f4d0c",
   "metadata": {},
   "outputs": [
    {
     "name": "stdout",
     "output_type": "stream",
     "text": [
      "True 209\n"
     ]
    }
   ],
   "source": [
    "almost_there(209)"
   ]
  }
 ],
 "metadata": {
  "kernelspec": {
   "display_name": "Python 3 (ipykernel)",
   "language": "python",
   "name": "python3"
  },
  "language_info": {
   "codemirror_mode": {
    "name": "ipython",
    "version": 3
   },
   "file_extension": ".py",
   "mimetype": "text/x-python",
   "name": "python",
   "nbconvert_exporter": "python",
   "pygments_lexer": "ipython3",
   "version": "3.10.9"
  }
 },
 "nbformat": 4,
 "nbformat_minor": 5
}
